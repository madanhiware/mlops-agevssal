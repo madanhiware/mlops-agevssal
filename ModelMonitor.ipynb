{
 "cells": [
  {
   "cell_type": "markdown",
   "id": "3f5bc758-eb45-4559-9710-ccd0b542d7aa",
   "metadata": {
    "tags": []
   },
   "source": [
    "# <font size=\"4\" color='black'>Self Implementation of DefaultModelMonitor</font>"
   ]
  },
  {
   "cell_type": "markdown",
   "id": "16efdfad-f545-4316-9382-009c0c50f82c",
   "metadata": {},
   "source": [
    "Define a simple regression use case\n",
    "\n",
    "This use case has two columns. Age and Salary. Our input is Age and label is Salary. \n",
    "We are looking to build models and predict Salary for any given Age.\n",
    "The purpose is to demonstrate how this can be done using MLOps."
   ]
  },
  {
   "cell_type": "markdown",
   "id": "7669822d-7c52-4304-8185-6f029bc976f0",
   "metadata": {},
   "source": [
    "## <center><font size=\"5\" color='black'> ------------- Section 01 - FE and Training ------------- </font>"
   ]
  },
  {
   "cell_type": "markdown",
   "id": "3c52ec11-0982-4100-a994-b3ea8799a511",
   "metadata": {},
   "source": [
    "## <font size=\"3\" color='blue'>Get Input DataSet, perform FE, train-test split</font>"
   ]
  },
  {
   "cell_type": "code",
   "execution_count": null,
   "id": "edf390d2-221c-4f18-9f05-4732967bacd3",
   "metadata": {
    "tags": []
   },
   "outputs": [],
   "source": [
    "# get London time\n",
    "\n",
    "from datetime import datetime\n",
    "import pytz\n",
    "import os\n",
    "\n",
    "def read(s3_url):\n",
    "    \n",
    "    file_path = fr'{s3_url}'\n",
    "    file_name = os.path.basename(file_path)\n",
    "    \n",
    "    !rm ./tmp/$file_name 2> /dev/null\n",
    "    \n",
    "    # print verbose if error\n",
    "    !aws s3 cp $file_path  ./tmp/ | grep 'fatal error'\n",
    "    !cat ./tmp/$file_name\n",
    "    \n",
    "def get_london_time():\n",
    "    tz_London = pytz.timezone('Europe/London')\n",
    "    tm_London = datetime.now(tz_London).strftime(\"%Y%m%d%H%M%S\")\n",
    "    return tm_London"
   ]
  },
  {
   "cell_type": "code",
   "execution_count": null,
   "id": "eed1e0d5-1510-49a0-87be-43753774e606",
   "metadata": {},
   "outputs": [],
   "source": [
    "read(\"s3://madan-s3/pipelines/use_case_ageVsSalary/batchoutput/test_df.csv.out\")"
   ]
  },
  {
   "cell_type": "markdown",
   "id": "2c93f1b1-6372-4918-b5ce-089c86099344",
   "metadata": {},
   "source": [
    "### <font size=\"2\" color='blue'>Input DataSet<font>"
   ]
  },
  {
   "cell_type": "code",
   "execution_count": null,
   "id": "851bf933-bf05-42ac-8b8a-9ecbecba565d",
   "metadata": {},
   "outputs": [],
   "source": [
    "#Sandeep\n",
    "#bucket_name= \"01-attempts-406016308324\"\n",
    "\n",
    "#Madan\n",
    "bucket_name= \"madan-s3\"\n",
    "root_s3_folder = fr's3://{bucket_name}/pipelines/use_case_ageVsSalary'\n",
    "\n",
    "print(root_s3_folder)"
   ]
  },
  {
   "cell_type": "code",
   "execution_count": null,
   "id": "bfabf90e-9ba1-408f-8189-c0cb9c4b91df",
   "metadata": {
    "tags": []
   },
   "outputs": [],
   "source": [
    "# A SageMaker session is needed to establish a connection between the notebook and AWS SageMaker services, enabling streamlined management of resources like training jobs and model deployments. It simplifies interactions with SageMaker by abstracting complex API calls, facilitating efficient machine learning workflows.\n",
    "\n",
    "import sagemaker\n",
    "from sagemaker.session import Session\n",
    "\n",
    "sagemaker_session = sagemaker.Session()\n",
    "role = sagemaker.get_execution_role()"
   ]
  },
  {
   "cell_type": "code",
   "execution_count": null,
   "id": "e0330dd6-6e59-43aa-bb85-b46a4d109942",
   "metadata": {
    "tags": []
   },
   "outputs": [],
   "source": [
    "import pandas as pd"
   ]
  },
  {
   "cell_type": "code",
   "execution_count": null,
   "id": "6379c583-3959-4d12-b608-505f8fdc86bd",
   "metadata": {
    "tags": []
   },
   "outputs": [],
   "source": [
    "input_data_for_training = pd.read_csv(r'../data/input-data-for-training.csv')\n",
    "input_data_for_training.head()"
   ]
  },
  {
   "cell_type": "code",
   "execution_count": null,
   "id": "b32e31d3-99a8-4ea2-8aa2-74e54558de6a",
   "metadata": {
    "tags": []
   },
   "outputs": [],
   "source": [
    "import matplotlib.pyplot as plt\n",
    "\n",
    "x = input_data_for_training.age\n",
    "y = input_data_for_training.salary\n",
    "\n",
    "plt.scatter(x, y)\n",
    "plt.title(\"Age-Vs-Salary Distribution\")\n",
    "plt.xlabel(\"Age\")\n",
    "plt.ylabel(\"Salary\")\n",
    "plt.show()"
   ]
  },
  {
   "cell_type": "code",
   "execution_count": null,
   "id": "360ac326-2b77-4213-9e56-55c382332eb5",
   "metadata": {
    "tags": []
   },
   "outputs": [],
   "source": [
    "# Split the dataset for training\n",
    "\n",
    "from sklearn.model_selection import train_test_split \n",
    "\n",
    "\n",
    "X_train, X_test, y_train, y_test = train_test_split(\n",
    "                                    input_data_for_training.age, \n",
    "                                    input_data_for_training.salary,\n",
    "                                    random_state=104,  \n",
    "                                    test_size=0.3,  \n",
    "                                    shuffle=True\n",
    "                                    ) "
   ]
  },
  {
   "cell_type": "code",
   "execution_count": null,
   "id": "8622e587-342c-425e-80dd-5fc714851d4c",
   "metadata": {
    "tags": []
   },
   "outputs": [],
   "source": [
    "print(f'input_data_for_training.shape : {input_data_for_training.shape}')\n",
    "print(f'X_train : {len(X_train)} y_train : {len(y_train)}')\n",
    "print(f'X_test  : {len(X_test)} y_test  : {len(y_test)}')"
   ]
  },
  {
   "cell_type": "markdown",
   "id": "0898e751-231e-4454-b2aa-412890b9051f",
   "metadata": {},
   "source": [
    "### <font size=\"2\" color='blue'>Create a dummy feature engineering function<font>"
   ]
  },
  {
   "cell_type": "code",
   "execution_count": null,
   "id": "baa6b109-3ed3-4654-9868-2f98d32f539b",
   "metadata": {
    "tags": []
   },
   "outputs": [],
   "source": [
    "def perform_feature_engineering(raw_data_df):\n",
    "    # this is a dummy feature engineering function.\n",
    "    # in real-case, it can be replace with more sophisticated code\n",
    "    # that perform feature engineering and derive new features\n",
    "    return raw_data_df"
   ]
  },
  {
   "cell_type": "code",
   "execution_count": null,
   "id": "21a42ac3-ca56-4b5a-b46c-a30bd846fade",
   "metadata": {
    "tags": []
   },
   "outputs": [],
   "source": [
    "input_data_for_training = perform_feature_engineering(input_data_for_training)\n",
    "input_data_for_training.head(5)"
   ]
  },
  {
   "cell_type": "code",
   "execution_count": null,
   "id": "40cf8d19-afd0-477d-adb9-e40e3a20b81f",
   "metadata": {
    "tags": []
   },
   "outputs": [],
   "source": [
    "train_df = pd.DataFrame({'y_salary' : y_train, 'x_age' : X_train})\n",
    "print(f'train_df.shape : {train_df.shape}')\n",
    "train_df.head(3)"
   ]
  },
  {
   "cell_type": "code",
   "execution_count": null,
   "id": "5eb31c89-2806-42f9-92b2-03ba4ca653ae",
   "metadata": {
    "tags": []
   },
   "outputs": [],
   "source": [
    "validation_df = pd.DataFrame({'y_salary' : y_test, 'x_age' : X_test})\n",
    "print(f'validation_df.shape : {validation_df.shape}')\n",
    "validation_df.head(3)"
   ]
  },
  {
   "cell_type": "code",
   "execution_count": null,
   "id": "08d01a0c-ee03-49a2-9f3f-14196ec32056",
   "metadata": {
    "tags": []
   },
   "outputs": [],
   "source": [
    "train_df.to_csv(r'../data/train_df.csv', index=False, header=False)\n",
    "validation_df.to_csv(r'../data/validation_df.csv', index=False, header=False)"
   ]
  },
  {
   "cell_type": "code",
   "execution_count": null,
   "id": "9ef50cfb-2539-4be8-995a-0030649442bf",
   "metadata": {
    "tags": []
   },
   "outputs": [],
   "source": [
    "#Madan: create function to save files into S3\n",
    "import boto3\n",
    "\n",
    "def upload_file(file_name, bucket, object_name=None):\n",
    "    if object_name is None:\n",
    "        object_name = file_name\n",
    "        \n",
    "    # Upload the file\n",
    "    s3 = boto3.client('s3')\n",
    "    try:\n",
    "        s3.upload_file(file_name, bucket, object_name)\n",
    "        print(f\"Uploaded {file_name} to S3 bucket {bucket} as {object_name}\")\n",
    "    except Exception as e:\n",
    "        print(f\"Error uploading file: {e}\")"
   ]
  },
  {
   "cell_type": "code",
   "execution_count": null,
   "id": "631e7ed3-24d1-4189-a9de-09b04bd92c7c",
   "metadata": {
    "tags": []
   },
   "outputs": [],
   "source": [
    "#Madan:  upload Train into s3\n",
    "file_name = r'../data/train_df.csv'\n",
    "object_name= \"pipelines/use_case_ageVsSalary/input_data_for_training/train/train_df.csv\"\n",
    "upload_file(file_name,bucket_name,object_name)\n",
    "\n",
    "\n",
    "file_name = r'../data/validation_df.csv'\n",
    "object_name= \"pipelines/use_case_ageVsSalary/input_data_for_training/valid/validation_df.csv\"\n",
    "upload_file(file_name,bucket_name,object_name)"
   ]
  },
  {
   "cell_type": "markdown",
   "id": "28b0e194-a9b1-42b9-a444-8fec1e6262e0",
   "metadata": {},
   "source": [
    "### <font size=\"2\" color='blue'>Retrieve base image URI and run the training through processing job<font>"
   ]
  },
  {
   "cell_type": "code",
   "execution_count": null,
   "id": "0ab9b0a5-df93-4f36-83df-4acc26a01343",
   "metadata": {
    "tags": []
   },
   "outputs": [],
   "source": [
    "# getting the linear learner image according to the region\n",
    "import boto3\n",
    "from sagemaker.image_uris import retrieve\n",
    "\n",
    "base_image = retrieve(\"linear-learner\", boto3.Session().region_name, version=\"1\")\n",
    "print(f'base_image : {base_image}')"
   ]
  },
  {
   "cell_type": "code",
   "execution_count": null,
   "id": "a2b05589-ef21-4c68-9739-8aff33f5f878",
   "metadata": {
    "tags": []
   },
   "outputs": [],
   "source": [
    "train_location=fr'{root_s3_folder}/input_data_for_training/train/train_df.csv'\n",
    "validation_location=fr'{root_s3_folder}/input_data_for_training/valid/validation_df.csv'\n",
    "\n",
    "train_config=sagemaker.session.TrainingInput(\n",
    "    s3_data=train_location,\n",
    "    content_type='text/csv',\n",
    "    s3_data_type='S3Prefix')\n",
    "\n",
    "validation_config=sagemaker.session.TrainingInput(\n",
    "    s3_data=validation_location,\n",
    "    content_type='text/csv',\n",
    "    s3_data_type='S3Prefix')\n",
    "\n",
    "data_channels={'train':train_config,'validation':validation_config}\n",
    "\n",
    "print(train_config.config)\n",
    "print(validation_config.config)"
   ]
  },
  {
   "cell_type": "code",
   "execution_count": null,
   "id": "af03740e-d9f6-4d2e-9dcb-3ede2367cdd2",
   "metadata": {
    "tags": []
   },
   "outputs": [],
   "source": [
    "output_location = fr'{root_s3_folder}/output/'\n",
    "\n",
    "linear_estimator = sagemaker.estimator.Estimator(\n",
    "                                                    base_image,\n",
    "                                                    role,\n",
    "                                                    input_mode=\"File\",\n",
    "                                                    instance_count=1,\n",
    "                                                    instance_type=\"ml.m4.xlarge\",\n",
    "                                                    output_path=output_location,\n",
    "                                                    sagemaker_session=sagemaker_session\n",
    "                                                )"
   ]
  },
  {
   "cell_type": "code",
   "execution_count": null,
   "id": "fd6f50f6-4012-462a-81b0-6a1d67345e77",
   "metadata": {
    "tags": []
   },
   "outputs": [],
   "source": [
    "# Note: set hyperparameter as training job was failing with below error </br></br>\n",
    "\n",
    "# ClientError: No value(s) were specified for 'predictor_type' which are required hyperparameter(s) (caused by ValidationError), exit code: 2\n",
    "# set hyperparameters \n",
    "linear_estimator.set_hyperparameters(\n",
    "        feature_dim=1,\n",
    "        mini_batch_size=1,\n",
    "        predictor_type='regressor')"
   ]
  },
  {
   "cell_type": "code",
   "execution_count": null,
   "id": "f7844cda-e3a2-4287-b93f-cb6fe1cf1f65",
   "metadata": {
    "scrolled": true,
    "tags": []
   },
   "outputs": [],
   "source": [
    "# this will trigger processing job\n",
    "\n",
    "# Concise description of each SageMaker job:\n",
    "\n",
    "# Training Job: Trains a machine learning model using a specified algorithm and dataset.\n",
    "# Processing Job: Executes data preprocessing, postprocessing, or any custom processing tasks.\n",
    "# Transform Job (Batch Inference Job): Applies a trained model to a large dataset for batch predictions.\n",
    "# Inference Job (Endpoint): Deploys a trained model as a real-time endpoint for online predictions.\n",
    "# Hyperparameter Tuning Job: Automatically searches for the best hyperparameters to optimize model performance.\n",
    "# Data Wrangler Job: Processes and visualizes data using a graphical interface to prepare it for machine learning tasks.\n",
    "\n",
    "# defining train_data, the LinearLearner algorithm expects the data to be in a specific format, typically as a CSV file or in the record-IO protobuf format. The dataset should be in a tabular format where the first column is the label (target variable) and the remaining columns are the features.\n",
    "\n",
    "\n",
    "job_name = \"AgeVsSalary-linear-learner-train-job-\" + get_london_time()\n",
    "print(\"Training job\", job_name)\n",
    "\n",
    "linear_estimator.fit(inputs=data_channels, job_name=job_name)"
   ]
  },
  {
   "cell_type": "markdown",
   "id": "a615b66f-ab24-4fff-97b6-18e946d90925",
   "metadata": {},
   "source": [
    "### <font size=\"2\" color='blue'>Create simple function to print evaluation metrics</font>"
   ]
  },
  {
   "cell_type": "markdown",
   "id": "2212e6b2-c257-4f33-8d0e-c4ebfd91feba",
   "metadata": {},
   "source": [
    "### <font size=\"2\" color='blue'>Store the trained model image for repeated use</font>"
   ]
  },
  {
   "cell_type": "code",
   "execution_count": null,
   "id": "e1daae35-8e8d-47ab-a280-96022b41272a",
   "metadata": {
    "tags": []
   },
   "outputs": [],
   "source": [
    "trained_model=fr'{output_location}{job_name}/output/model.tar.gz'\n",
    "print(trained_model)"
   ]
  },
  {
   "cell_type": "code",
   "execution_count": null,
   "id": "58fad9a3-7f72-4be7-b274-324ac9f523b9",
   "metadata": {
    "tags": []
   },
   "outputs": [],
   "source": [
    "# remember to delete endpoint after use\n",
    "\n",
    "model_name=\"AgeVsSalary-model-\" + get_london_time()\n",
    "endpoint_name = \"AgeVsSalary-Endpoint-\" + get_london_time()\n",
    "\n",
    "# predictor = linear_estimator.deploy(\n",
    "#     initial_instance_count=1,\n",
    "#     instance_type='ml.m4.xlarge',\n",
    "#     endpoint_name = endpoint_name)"
   ]
  },
  {
   "cell_type": "code",
   "execution_count": null,
   "id": "1353cb06-1172-4021-bcb0-d59fbf22ddd4",
   "metadata": {
    "tags": []
   },
   "outputs": [],
   "source": [
    "# from sagemaker.serializers import CSVSerializer\n",
    "\n",
    "# predictor.serializer = CSVSerializer()\n",
    "# result = predictor.predict([[30]])\n",
    "# print(result)"
   ]
  },
  {
   "cell_type": "markdown",
   "id": "4665c36e-7a5a-452a-9de4-09f3018b07aa",
   "metadata": {},
   "source": [
    "### <font size=\"2\" color='blue'>Delete model to avoid unnecessary cost</font>"
   ]
  },
  {
   "cell_type": "code",
   "execution_count": null,
   "id": "7d6325b5-67ee-4ee5-9949-fbc8cf3b61bb",
   "metadata": {
    "tags": []
   },
   "outputs": [],
   "source": [
    "# predictor.delete_endpoint()"
   ]
  },
  {
   "cell_type": "markdown",
   "id": "e208cb51-5fb0-45e4-8d98-e669782bd411",
   "metadata": {},
   "source": [
    "### <font size=\"2\" color='blue'>Retriev stored model and perform new prediction</font>"
   ]
  },
  {
   "cell_type": "code",
   "execution_count": null,
   "id": "8219512d-e0fb-4584-9319-011f076e1c3c",
   "metadata": {},
   "outputs": [],
   "source": [
    "from sagemaker.model import Model\n",
    "from sagemaker.predictor import Predictor\n",
    "\n",
    "#stored_model_artifact = fr'{root_s3_folder}/output/AgeVsSalary-linear-learner-train-job-20240809153258/output/model.tar.gz'\n",
    "stored_model_artifact= trained_model\n",
    "stored_model = Model(\n",
    "                        image_uri=base_image,\n",
    "                        model_data=stored_model_artifact,\n",
    "                        role=role,\n",
    "                        name=model_name,\n",
    "                        predictor_cls=Predictor\n",
    "                        )"
   ]
  },
  {
   "cell_type": "code",
   "execution_count": null,
   "id": "e31b4bdc-ce88-476e-a561-2f8bfdc5e5f3",
   "metadata": {
    "tags": []
   },
   "outputs": [],
   "source": [
    "# remember to delete endpoint\n",
    "print(fr'endpoint_name : {endpoint_name}')\n",
    "\n",
    "predictor = stored_model.deploy(\n",
    "                                    initial_instance_count=1,\n",
    "                                    instance_type='ml.m4.xlarge',\n",
    "                                    endpoint_name = endpoint_name\n",
    "                                )"
   ]
  },
  {
   "cell_type": "code",
   "execution_count": null,
   "id": "75e74522-b0ed-4104-aa06-0af0ad6b8036",
   "metadata": {
    "tags": []
   },
   "outputs": [],
   "source": [
    "print(type(predictor))"
   ]
  },
  {
   "cell_type": "code",
   "execution_count": null,
   "id": "6e392b8f-9e87-47ab-be77-40911464dd14",
   "metadata": {
    "tags": []
   },
   "outputs": [],
   "source": [
    "from sagemaker.serializers import CSVSerializer\n",
    "\n",
    "predictor.serializer = CSVSerializer()\n",
    "result = predictor.predict([[30]])\n",
    "print(result)"
   ]
  },
  {
   "cell_type": "code",
   "execution_count": null,
   "id": "e7b8e711-bd61-4368-a2f4-153846b5feef",
   "metadata": {
    "tags": []
   },
   "outputs": [],
   "source": [
    "predictor.delete_endpoint()"
   ]
  },
  {
   "cell_type": "markdown",
   "id": "af1260f9-b9ec-4d0f-94e2-e69a20105a48",
   "metadata": {},
   "source": [
    "## <center><font size=\"5\" color='black'> ------------- Section 02 - Batch Transform ------------- </font>"
   ]
  },
  {
   "cell_type": "markdown",
   "id": "a2c68904-f6a0-4360-bbd3-393534f6cd30",
   "metadata": {},
   "source": [
    "## <font size=\"3\" color='green'>Create Code to input data, generate inferences using batch transform</font>"
   ]
  },
  {
   "cell_type": "markdown",
   "id": "a437d1ed-1a66-4cba-925a-f3c1882d846e",
   "metadata": {},
   "source": [
    "### <font size=\"2\" color='green'>Get a very simple dataset of age and salary with some randomness</font> \n",
    "\n",
    "1. See data folder. "
   ]
  },
  {
   "cell_type": "markdown",
   "id": "908023b2-b555-484d-823d-997295545a09",
   "metadata": {},
   "source": [
    "### <font size=\"2\" color='green'>Create a code to generate inference using batch transform</font> "
   ]
  },
  {
   "cell_type": "markdown",
   "id": "3bc99de6-2054-4951-b27e-0bc70f9975dc",
   "metadata": {},
   "source": [
    "### <font size=\"2\" color='green'>Provide a sample batch input file and generate inferences</font>"
   ]
  },
  {
   "cell_type": "markdown",
   "id": "20e93a96-0305-49f4-be56-56884a09a024",
   "metadata": {},
   "source": [
    "### <font size=\"2\" color='green'>Create sagemaker pipeline to train model and generate inference again when a new train input file is loaded</font>"
   ]
  },
  {
   "cell_type": "markdown",
   "id": "c2bd770b-04f2-4bd7-af6f-fc7242ff1fbd",
   "metadata": {},
   "source": [
    "## <center><font size=\"5\" color='black'> ------------- Section 03 - Pipeline ------------- </font>"
   ]
  },
  {
   "cell_type": "code",
   "execution_count": 1,
   "id": "ee359e75-4fcb-4813-b380-9851a2489506",
   "metadata": {},
   "outputs": [
    {
     "name": "stdout",
     "output_type": "stream",
     "text": [
      "s3://madan-s3/pipelines/use_case_ageVsSalary\n"
     ]
    }
   ],
   "source": [
    "#Sandeep\n",
    "#bucket_name= \"01-attempts-406016308324\"\n",
    "\n",
    "#Madan\n",
    "bucket_name= \"madan-s3\"\n",
    "root_s3_folder = fr's3://{bucket_name}/pipelines/use_case_ageVsSalary'\n",
    "\n",
    "print(root_s3_folder)"
   ]
  },
  {
   "cell_type": "code",
   "execution_count": 2,
   "id": "f85abcf5-6aa1-44aa-8f64-d986ed80cfee",
   "metadata": {},
   "outputs": [
    {
     "name": "stdout",
     "output_type": "stream",
     "text": [
      "sagemaker.config INFO - Not applying SDK defaults from location: /etc/xdg/sagemaker/config.yaml\n",
      "sagemaker.config INFO - Not applying SDK defaults from location: /home/sagemaker-user/.config/sagemaker/config.yaml\n"
     ]
    }
   ],
   "source": [
    "\n",
    "import sagemaker\n",
    "from sagemaker.session import Session\n",
    "\n",
    "sagemaker_session = sagemaker.Session()\n",
    "role = sagemaker.get_execution_role()"
   ]
  },
  {
   "cell_type": "markdown",
   "id": "e5556d9e-3620-4c82-94ba-5ff5875eb32c",
   "metadata": {},
   "source": [
    "## <font size=\"3\" color='red'>1. Create a pipeline to train data, create model and register model</font>"
   ]
  },
  {
   "cell_type": "markdown",
   "id": "2764253f-6ca9-4253-b0cd-08fbc62acd92",
   "metadata": {},
   "source": [
    "## <font size=\"3\"> Preprocessing step </font>"
   ]
  },
  {
   "cell_type": "code",
   "execution_count": 3,
   "id": "50579d05-13b8-4ed5-903e-5e4c537ea76f",
   "metadata": {},
   "outputs": [
    {
     "name": "stdout",
     "output_type": "stream",
     "text": [
      "Overwriting preprocessing.py\n"
     ]
    }
   ],
   "source": [
    "%%writefile preprocessing.py\n",
    "\n",
    "from datetime import datetime\n",
    "import pytz\n",
    "import os\n",
    "import pandas as pd\n",
    "#import matplotlib.pyplot as plt\n",
    "from sklearn.model_selection import train_test_split \n",
    "\n",
    "\n",
    "def perform_feature_engineering(raw_data_df):\n",
    "    # this is a dummy feature engineering function.\n",
    "    # in real-case, it can be replace with more sophisticated code\n",
    "    # that perform feature engineering and derive new features\n",
    "    return raw_data_df\n",
    "\n",
    "if __name__ == \"__main__\":\n",
    "    \n",
    " base_dir = \"/opt/ml/processing\"\n",
    "input_data_for_training = pd.read_csv(fr'{base_dir}/input/input-data-for-training.csv')\n",
    "#input_data_for_training.head()\n",
    "\n",
    "# x = input_data_for_training.age\n",
    "# y = input_data_for_training.salary\n",
    "\n",
    "# plt.scatter(x, y)\n",
    "# plt.title(\"Age-Vs-Salary Distribution\")\n",
    "# plt.xlabel(\"Age\")\n",
    "# plt.ylabel(\"Salary\")\n",
    "# plt.show()\n",
    "\n",
    "# Split the dataset for training\n",
    "X_train, X_test, y_train, y_test = train_test_split(\n",
    "                                    input_data_for_training.age, \n",
    "                                    input_data_for_training.salary,\n",
    "                                    random_state=104,  \n",
    "                                    test_size=0.3,  \n",
    "                                    shuffle=True\n",
    "                                    ) \n",
    "\n",
    "print(f'input_data_for_training.shape : {input_data_for_training.shape}')\n",
    "print(f'X_train : {len(X_train)} y_train : {len(y_train)}')\n",
    "print(f'X_test  : {len(X_test)} y_test  : {len(y_test)}')\n",
    "\n",
    "input_data_for_training = perform_feature_engineering(input_data_for_training)\n",
    "#input_data_for_training.head(5)\n",
    "\n",
    "train_df = pd.DataFrame({'y_salary' : y_train, 'x_age' : X_train})\n",
    "print(f'train_df.shape : {train_df.shape}')\n",
    "#train_df.head(3)\n",
    "\n",
    "validation_df = pd.DataFrame({'y_salary' : y_test, 'x_age' : X_test})\n",
    "print(f'validation_df.shape : {validation_df.shape}')\n",
    "#validation_df.head(3)\n",
    "\n",
    "train_df.to_csv(fr'{base_dir}/train/train_df.csv', index=False, header=False)\n",
    "validation_df.to_csv(fr'{base_dir}/validation/validation_df.csv', index=False, header=False)"
   ]
  },
  {
   "cell_type": "code",
   "execution_count": 4,
   "id": "5fb4c80a-f5e9-4b8a-a8b6-37f579f0caed",
   "metadata": {},
   "outputs": [],
   "source": [
    "import boto3\n",
    "\n",
    "def upload_file(file_name, bucket, object_name=None):\n",
    "    if object_name is None:\n",
    "        object_name = file_name\n",
    "        \n",
    "    # Upload the file\n",
    "    s3 = boto3.client('s3')\n",
    "    try:\n",
    "        s3.upload_file(file_name, bucket, object_name)\n",
    "        print(f\"Uploaded {file_name} to S3 bucket {bucket} as {object_name}\")\n",
    "    except Exception as e:\n",
    "        print(f\"Error uploading file: {e}\")"
   ]
  },
  {
   "cell_type": "code",
   "execution_count": 5,
   "id": "abe672c1-24a3-49a7-9c05-8cf5ea9d961b",
   "metadata": {},
   "outputs": [
    {
     "name": "stdout",
     "output_type": "stream",
     "text": [
      "Uploaded ../data/input-data-for-training.csv to S3 bucket madan-s3 as pipelines/use_case_ageVsSalary/input_data_for_training/sourcefile/input-data-for-training.csv\n"
     ]
    }
   ],
   "source": [
    "#upload source file to S3 as this'll get use during preprocessing step in pipeline\n",
    "\n",
    "file_name = r'../data/input-data-for-training.csv'\n",
    "object_name= \"pipelines/use_case_ageVsSalary/input_data_for_training/sourcefile/input-data-for-training.csv\"\n",
    "upload_file(file_name,bucket_name,object_name)\n"
   ]
  },
  {
   "cell_type": "code",
   "execution_count": 6,
   "id": "8f57bc7c-fb9b-4fac-b4f6-c8373ad23bb0",
   "metadata": {},
   "outputs": [],
   "source": [
    "from sagemaker.sklearn.processing import SKLearnProcessor\n",
    "from sagemaker.workflow.pipeline_context import PipelineSession\n",
    "pipeline_session = PipelineSession()\n",
    "\n",
    "sklearn_processor = SKLearnProcessor(\n",
    "    framework_version=\"1.2-1\",\n",
    "    instance_type=\"ml.m5.xlarge\",\n",
    "    instance_count=1,\n",
    "    base_job_name=\"AgeVsSalary-process\",\n",
    "    role=role,\n",
    "    sagemaker_session=pipeline_session,\n",
    ")"
   ]
  },
  {
   "cell_type": "code",
   "execution_count": 7,
   "id": "b5012d58-b7e0-4ca6-af87-3390ad032a52",
   "metadata": {},
   "outputs": [
    {
     "name": "stderr",
     "output_type": "stream",
     "text": [
      "/opt/conda/lib/python3.10/site-packages/sagemaker/workflow/pipeline_context.py:332: UserWarning: Running within a PipelineSession, there will be No Wait, No Logs, and No Job being started.\n",
      "  warnings.warn(\n"
     ]
    }
   ],
   "source": [
    "from sagemaker.processing import ProcessingInput, ProcessingOutput\n",
    "from sagemaker.workflow.steps import ProcessingStep\n",
    "\n",
    "source_input_data=f'{root_s3_folder}/input_data_for_training/sourcefile/input-data-for-training.csv'\n",
    "\n",
    "processor_args = sklearn_processor.run(\n",
    "    inputs=[\n",
    "        ProcessingInput(source=source_input_data, destination=\"/opt/ml/processing/input\"),\n",
    "    ],\n",
    "    outputs=[\n",
    "        ProcessingOutput(output_name=\"train\", source=\"/opt/ml/processing/train\"),\n",
    "        ProcessingOutput(output_name=\"validation\", source=\"/opt/ml/processing/validation\"),\n",
    "        ProcessingOutput(output_name=\"test\", source=\"/opt/ml/processing/test\")\n",
    "    ],\n",
    "    code=\"preprocessing.py\",\n",
    ")\n",
    "\n",
    "step_process = ProcessingStep(name=\"AgeVsSalaryProcess\", step_args=processor_args)"
   ]
  },
  {
   "cell_type": "code",
   "execution_count": 8,
   "id": "a4231627-8e72-4792-9c88-5bbc3fb486cc",
   "metadata": {},
   "outputs": [],
   "source": [
    "from datetime import datetime\n",
    "import pytz\n",
    "\n",
    "def get_london_time():\n",
    "    tz_London = pytz.timezone('Europe/London')\n",
    "    tm_London = datetime.now(tz_London).strftime(\"%Y%m%d%H%M%S\")\n",
    "    return tm_London"
   ]
  },
  {
   "cell_type": "markdown",
   "id": "c9346133-7017-4241-8424-260c0a801994",
   "metadata": {},
   "source": [
    "## <font size=\"3\"> training step </font>"
   ]
  },
  {
   "cell_type": "code",
   "execution_count": 9,
   "id": "49f93c86-1382-435f-9f94-478f11b512d7",
   "metadata": {},
   "outputs": [
    {
     "name": "stdout",
     "output_type": "stream",
     "text": [
      "Training job AgeVsSalary-train-pipeline-20240821041941\n"
     ]
    }
   ],
   "source": [
    "# create training step process\n",
    "\n",
    "import boto3\n",
    "from sagemaker.image_uris import retrieve\n",
    "from sagemaker.inputs import TrainingInput\n",
    "from sagemaker.workflow.steps import TrainingStep\n",
    "\n",
    "\n",
    "job_name = \"AgeVsSalary-train-pipeline-\" + get_london_time()\n",
    "print(\"Training job\", job_name)\n",
    "output_location = fr'{root_s3_folder}/output/'\n",
    "\n",
    "\n",
    "base_image = retrieve(\"linear-learner\", boto3.Session().region_name, version=\"1\")\n",
    "\n",
    "linear_estimator = sagemaker.estimator.Estimator(\n",
    "                                                    base_image,\n",
    "                                                    role,\n",
    "                                                    input_mode=\"File\",\n",
    "                                                    instance_count=1,\n",
    "                                                    instance_type=\"ml.m4.xlarge\",\n",
    "                                                    output_path=output_location,\n",
    "                                                    sagemaker_session=pipeline_session\n",
    "                                                )\n",
    "\n",
    "linear_estimator.set_hyperparameters(\n",
    "        feature_dim=1,\n",
    "        mini_batch_size=1,\n",
    "        predictor_type='regressor')\n",
    "\n",
    "train_config=sagemaker.session.TrainingInput(\n",
    "    s3_data=step_process.properties.ProcessingOutputConfig.Outputs[\n",
    "                \"train\"\n",
    "            ].S3Output.S3Uri,\n",
    "    content_type='text/csv',\n",
    "    s3_data_type='S3Prefix')\n",
    "\n",
    "validation_config=sagemaker.session.TrainingInput(\n",
    "    s3_data=step_process.properties.ProcessingOutputConfig.Outputs[\n",
    "                \"validation\"\n",
    "            ].S3Output.S3Uri,\n",
    "    content_type='text/csv',\n",
    "    s3_data_type='S3Prefix')\n",
    "\n",
    "data_channels={'train':train_config,'validation':validation_config}\n",
    "\n",
    "\n",
    "train_fit= linear_estimator.fit(inputs=data_channels, job_name=job_name)\n",
    "\n",
    "step_train=  TrainingStep(\n",
    "    name= \"AgeVsSalary-train\",\n",
    "    step_args=train_fit)"
   ]
  },
  {
   "cell_type": "markdown",
   "id": "6cb9f041-eebc-49d2-b754-3342b720708a",
   "metadata": {},
   "source": [
    "## <font size=\"3\"> Model evalution script </font>"
   ]
  },
  {
   "cell_type": "code",
   "execution_count": 10,
   "id": "da9b6a0a-f9cb-4da4-824e-90fbda43af49",
   "metadata": {},
   "outputs": [
    {
     "name": "stdout",
     "output_type": "stream",
     "text": [
      "Overwriting evaluate.py\n"
     ]
    }
   ],
   "source": [
    "%%writefile evaluate.py\n",
    "\n",
    "import json\n",
    "import logging\n",
    "import os\n",
    "import pickle\n",
    "import tarfile\n",
    "\n",
    "import pandas as pd\n",
    "from sklearn.metrics import mean_squared_error, r2_score\n",
    "\n",
    "logger = logging.getLogger()\n",
    "logger.setLevel(logging.INFO)\n",
    "logger.addHandler(logging.StreamHandler())\n",
    "\n",
    "\n",
    "if __name__ == \"__main__\":\n",
    "    model_path = \"/opt/ml/processing/model/model.tar.gz\"\n",
    "    with tarfile.open(model_path) as tar:\n",
    "        tar.extractall(path=\"..\")\n",
    "\n",
    "    logger.debug(\"Loading linear regression model.\")\n",
    "    model = pickle.load(open(\"linear_regression_model\", \"rb\"))\n",
    "\n",
    "    print(\"Loading test input data\")\n",
    "    test_path = \"/opt/ml/processing/test/validation_df.csv\"\n",
    "    df = pd.read_csv(test_path, header=None)\n",
    "\n",
    "    logger.debug(\"Reading test data.\")\n",
    "    y_test = df.iloc[:, 0].to_numpy()\n",
    "    df.drop(df.columns[0], axis=1, inplace=True)\n",
    "    X_test = df.values\n",
    "\n",
    "    logger.info(\"Performing predictions against test data.\")\n",
    "    predictions = model.predict(X_test)\n",
    "\n",
    "    logger.info(\"Evaluating model performance.\")\n",
    "    mse = mean_squared_error(y_test, predictions)\n",
    "    r2 = r2_score(y_test, predictions)\n",
    "\n",
    "    # Update report dictionary with chosen metrics\n",
    "    report_dict = {\n",
    "        \"regression_metrics\": {\n",
    "            \"mean_squared_error\": {\n",
    "                \"value\": mse,\n",
    "                \"standard_deviation\": \"NaN\"\n",
    "            },\n",
    "            \"r2_score\": {\n",
    "                \"value\": r2,\n",
    "                \"standard_deviation\": \"NaN\"\n",
    "            }\n",
    "        }\n",
    "    }\n",
    "\n",
    "    print(\"Regression evaluation report:\\n{}\".format(report_dict))\n",
    "\n",
    "    evaluation_output_path = os.path.join(\"/opt/ml/processing/evaluation\", \"evaluation.json\")\n",
    "    print(\"Saving evaluation report to {}\".format(evaluation_output_path))\n",
    "\n",
    "    with open(evaluation_output_path, \"w\") as f:\n",
    "        f.write(json.dumps(report_dict))"
   ]
  },
  {
   "cell_type": "code",
   "execution_count": 11,
   "id": "6ba52f14-9563-4cc1-8e61-2630d89ba4ea",
   "metadata": {},
   "outputs": [],
   "source": [
    "from sagemaker.processing import ScriptProcessor\n",
    "\n",
    "\n",
    "script_eval = ScriptProcessor(\n",
    "    image_uri= base_image,\n",
    "    command=[\"python3\"],\n",
    "    instance_type=\"ml.m5.xlarge\",\n",
    "    instance_count=1,\n",
    "    base_job_name=\"AgeVsSalary-evalution\",\n",
    "    role=role,\n",
    "    sagemaker_session=pipeline_session,\n",
    ")\n",
    "\n",
    "eval_args = script_eval.run(\n",
    "    inputs=[\n",
    "        ProcessingInput(\n",
    "            source=step_train.properties.ModelArtifacts.S3ModelArtifacts,\n",
    "            destination=\"/opt/ml/processing/model\",\n",
    "        ),\n",
    "        ProcessingInput(\n",
    "            source=step_process.properties.ProcessingOutputConfig.Outputs[\"test\"].S3Output.S3Uri,\n",
    "            destination=\"/opt/ml/processing/test\",\n",
    "        ),\n",
    "    ],\n",
    "    outputs=[\n",
    "        ProcessingOutput(output_name=\"evaluation\", source=\"/opt/ml/processing/evaluation\"),\n",
    "    ],\n",
    "    code=\"evaluate.py\",\n",
    ")"
   ]
  },
  {
   "cell_type": "code",
   "execution_count": 12,
   "id": "8601698e-ad8d-41e8-bec8-60f28053c9c5",
   "metadata": {},
   "outputs": [],
   "source": [
    "from sagemaker.workflow.properties import PropertyFile\n",
    "\n",
    "\n",
    "evaluation_report = PropertyFile(\n",
    "    name=\"EvaluationReport\", output_name=\"evaluation\", path=\"evaluation.json\"\n",
    ")\n",
    "step_eval = ProcessingStep(\n",
    "    name=\"AgevsSalEval\",\n",
    "    step_args=eval_args,\n",
    "    property_files=[evaluation_report],\n",
    ")"
   ]
  },
  {
   "cell_type": "code",
   "execution_count": 13,
   "id": "cf775f0c-f38c-4c50-aca1-34534de28f8a",
   "metadata": {},
   "outputs": [
    {
     "name": "stderr",
     "output_type": "stream",
     "text": [
      "WARNING:sagemaker.workflow.utilities:Popping out 'ProcessingJobName' from the pipeline definition by default since it will be overridden at pipeline execution time. Please utilize the PipelineDefinitionConfig to persist this field in the pipeline definition if desired.\n"
     ]
    }
   ],
   "source": [
    "from sagemaker.model_metrics import MetricsSource, ModelMetrics\n",
    "model_metrics = ModelMetrics(\n",
    "    model_statistics=MetricsSource(\n",
    "        s3_uri=\"{}/evaluation.json\".format(\n",
    "            step_eval.arguments[\"ProcessingOutputConfig\"][\"Outputs\"][0][\"S3Output\"][\"S3Uri\"]\n",
    "        ),\n",
    "        content_type=\"application/json\",\n",
    "    )\n",
    ")"
   ]
  },
  {
   "cell_type": "markdown",
   "id": "0e9fce2d-ac98-415b-91f9-58bcc3b10ac7",
   "metadata": {},
   "source": [
    "## <font size=\"3\"> Model create and registor </font>"
   ]
  },
  {
   "cell_type": "code",
   "execution_count": 14,
   "id": "42fe4547-0f63-41c5-b812-5d318a5fcbec",
   "metadata": {},
   "outputs": [],
   "source": [
    "# Create model and register\n",
    "from sagemaker.model import Model\n",
    "from sagemaker.inputs import CreateModelInput\n",
    "from sagemaker.workflow.model_step import ModelStep\n",
    "\n",
    "\n",
    "model = Model(\n",
    "    image_uri=base_image,\n",
    "    model_data=step_train.properties.ModelArtifacts.S3ModelArtifacts,\n",
    "    sagemaker_session=pipeline_session,\n",
    "    role=role,\n",
    ")\n",
    "\n",
    "step_create_model = ModelStep(\n",
    "    name=\"AgeVsSalaryModel\",\n",
    "    step_args=model.create(instance_type=\"ml.m5.large\", accelerator_type=\"ml.eia1.medium\"),\n",
    ")\n",
    "\n",
    "register_args = model.register(\n",
    "    content_types=[\"text/csv\"],\n",
    "    response_types=[\"text/csv\"],\n",
    "    inference_instances=[\"ml.t2.medium\", \"ml.m5.xlarge\"],\n",
    "    transform_instances=[\"ml.m5.xlarge\"],\n",
    "    model_package_group_name=\"AgeVsSalaryGroup\",\n",
    "    approval_status=\"PendingManualApproval\",\n",
    "    model_metrics=model_metrics,\n",
    "   \n",
    ")\n",
    "step_register = ModelStep(name=\"AgeVsSalaryModelStep\", step_args=register_args)"
   ]
  },
  {
   "cell_type": "markdown",
   "id": "8661f33b-6c7e-45ef-8982-b0122ff78ef4",
   "metadata": {},
   "source": [
    "## <font size=\"3\"> Pipeline for preprocess,train and model </font>"
   ]
  },
  {
   "cell_type": "code",
   "execution_count": 15,
   "id": "a529df41-f637-496a-bd02-7cfaa78e6583",
   "metadata": {},
   "outputs": [],
   "source": [
    "## pipeline\n",
    "\n",
    "from sagemaker.workflow.pipeline import Pipeline\n",
    "\n",
    "\n",
    "pipeline_name = \"AgeVsSalary-Pipeline\"\n",
    "pipeline = Pipeline(\n",
    "    name=pipeline_name,\n",
    "    parameters=[\n",
    "        1,\n",
    "        \"ml.m5.xlarge\"\n",
    "    ],\n",
    "    steps=[step_process,step_train, step_create_model,step_register],\n",
    "   )"
   ]
  },
  {
   "cell_type": "code",
   "execution_count": 16,
   "id": "1f2b5fe2-b03c-4fdd-9131-22d4efa08f94",
   "metadata": {},
   "outputs": [
    {
     "name": "stderr",
     "output_type": "stream",
     "text": [
      "WARNING:sagemaker.workflow.utilities:Popping out 'ProcessingJobName' from the pipeline definition by default since it will be overridden at pipeline execution time. Please utilize the PipelineDefinitionConfig to persist this field in the pipeline definition if desired.\n",
      "WARNING:sagemaker.workflow.utilities:Popping out 'TrainingJobName' from the pipeline definition by default since it will be overridden at pipeline execution time. Please utilize the PipelineDefinitionConfig to persist this field in the pipeline definition if desired.\n",
      "WARNING:sagemaker.workflow.utilities:Popping out 'ModelName' from the pipeline definition by default since it will be overridden at pipeline execution time. Please utilize the PipelineDefinitionConfig to persist this field in the pipeline definition if desired.\n",
      "WARNING:sagemaker.workflow._utils:Popping out 'CertifyForMarketplace' from the pipeline definition since it will be overridden in pipeline execution time.\n",
      "WARNING:sagemaker.workflow.utilities:Popping out 'ModelPackageName' from the pipeline definition by default since it will be overridden at pipeline execution time. Please utilize the PipelineDefinitionConfig to persist this field in the pipeline definition if desired.\n"
     ]
    },
    {
     "data": {
      "text/plain": [
       "{'PipelineArn': 'arn:aws:sagemaker:us-east-1:908263978175:pipeline/AgeVsSalary-Pipeline',\n",
       " 'ResponseMetadata': {'RequestId': '1ac3aeca-406f-4ca7-b791-e2b9b3db4fde',\n",
       "  'HTTPStatusCode': 200,\n",
       "  'HTTPHeaders': {'x-amzn-requestid': '1ac3aeca-406f-4ca7-b791-e2b9b3db4fde',\n",
       "   'content-type': 'application/x-amz-json-1.1',\n",
       "   'content-length': '88',\n",
       "   'date': 'Wed, 21 Aug 2024 03:20:49 GMT'},\n",
       "  'RetryAttempts': 0}}"
      ]
     },
     "execution_count": 16,
     "metadata": {},
     "output_type": "execute_result"
    }
   ],
   "source": [
    "#run pipeline\n",
    "pipeline.upsert(role_arn=role)"
   ]
  },
  {
   "cell_type": "code",
   "execution_count": 17,
   "id": "44de360f-7fca-48e5-94ab-4d6f2c00dc87",
   "metadata": {},
   "outputs": [],
   "source": [
    "execution= pipeline.start()"
   ]
  },
  {
   "cell_type": "markdown",
   "id": "02282f5c-d1ad-491d-8b05-6403eaa4f549",
   "metadata": {},
   "source": [
    "## <font size=\"3\"> pipeline for batch transform when model approve </font>"
   ]
  },
  {
   "cell_type": "code",
   "execution_count": null,
   "id": "9b7f7a36-df88-45a4-b2ea-3822ae2207be",
   "metadata": {},
   "outputs": [],
   "source": [
    "import pandas as pd\n",
    "test_age=[30,20,12]\n",
    "test_df=pd.DataFrame(test_age)\n",
    "test_df.to_csv(r'../data/test_df.csv', index=False, header=False)"
   ]
  },
  {
   "cell_type": "code",
   "execution_count": null,
   "id": "115330c1-db37-4924-aa73-0e8beb526a07",
   "metadata": {
    "jupyter": {
     "source_hidden": true
    }
   },
   "outputs": [],
   "source": [
    "file_name = r'../data/test_df.csv'\n",
    "object_name= \"pipelines/use_case_ageVsSalary/input_data_for_training/test/test_df.csv\"\n",
    "upload_file(file_name,bucket_name,object_name)"
   ]
  },
  {
   "cell_type": "code",
   "execution_count": null,
   "id": "9371c02e-84b1-422b-b461-0729b139cb5d",
   "metadata": {},
   "outputs": [],
   "source": [
    "from sagemaker.transformer import Transformer\n",
    "\n",
    "test_s3 = f'{root_s3_folder}/input_data_for_training/test/test_df.csv'\n",
    "batch_output = f'{root_s3_folder}/batchoutput'\n",
    "\n",
    "transformer = Transformer(\n",
    "    model_name=\"pipelines-q7ccj9vacdej-AgeVsSalaryModel-Cre-zSoG4h7s4A\", #step_create_model.properties.ModelName,\n",
    "    instance_type=\"ml.m5.xlarge\",\n",
    "    instance_count=1,\n",
    "    output_path=batch_output\n",
    "   \n",
    ")\n",
    "\n",
    "from sagemaker.inputs import TransformInput\n",
    "from sagemaker.workflow.steps import TransformStep\n",
    "\n",
    "\n",
    "step_transform = TransformStep(\n",
    "    name=\"AgeVsSalaryTransform\", transformer=transformer, inputs=TransformInput(data=test_s3,content_type=\"text/csv\",split_type=\"Line\")\n",
    ")\n",
    "\n",
    "#pipeline\n",
    "from sagemaker.workflow.pipeline import Pipeline\n",
    "\n",
    "\n",
    "pipeline_name = \"AgeVsSalary-batch-pipeline\"\n",
    "pipeline = Pipeline(\n",
    "    name=pipeline_name,\n",
    "    parameters=[\n",
    "        1,\n",
    "        \"ml.m5.xlarge\"\n",
    "    ],\n",
    "    steps=[step_transform],\n",
    "   )\n",
    "\n",
    "#run pipeline\n",
    "pipeline.upsert(role_arn=role)\n",
    "execution= pipeline.start()"
   ]
  },
  {
   "cell_type": "code",
   "execution_count": null,
   "id": "0fe640f9-b317-4d79-aaab-874787448ba0",
   "metadata": {},
   "outputs": [],
   "source": [
    "print(batch_output)"
   ]
  },
  {
   "cell_type": "markdown",
   "id": "17d08b73-fc77-426a-8fbf-15a220b186a0",
   "metadata": {},
   "source": [
    "## <font size=\"3\" color=\"red\"> pending -> </br> 1. get model name which pending for approval </br> 2. create event bridge </br> a. set rule- > when model approved </br> b. target -> trigger pipeline which will run transform job\n",
    "</font>"
   ]
  },
  {
   "cell_type": "markdown",
   "id": "3d65aac5-041c-4651-a33d-ca37ede39947",
   "metadata": {},
   "source": [
    "## <font size=\"3\"> Create event bridge when model approve </font>"
   ]
  },
  {
   "cell_type": "code",
   "execution_count": null,
   "id": "6f08c9f9-e974-4999-87cf-f529e7779935",
   "metadata": {},
   "outputs": [],
   "source": [
    "import boto3\n",
    "import json\n",
    "import sagemaker\n",
    "from sagemaker import get_execution_role\n",
    "\n",
    "#role= \"arn:aws:iam::908263978175:role/lambda-sagemaker-pipeline\"\n",
    "\n",
    "eb_client = boto3.client('events')\n",
    "rule_name=\"event-agevssal-transform-job-sdk\"\n",
    "\n",
    "#set rule , logic referred with  console working event\n",
    "response = eb_client.put_rule(\n",
    "        Name=rule_name,\n",
    "        EventPattern=json.dumps({\n",
    "          \"source\": [\"aws.sagemaker\"],\n",
    "          \"detail-type\": [\"SageMaker Model Package State Change\"],\n",
    "          \"detail\": {\n",
    "            \"ModelPackageGroupName\": [\"AgeVsSalaryGroup\"],\n",
    "            \"ModelApprovalStatus\": [\"Approved\"]\n",
    "          }\n",
    "        }))\n",
    "\n",
    "session = boto3.session.Session()\n",
    "region = session.region_name\n",
    "account_id = boto3.client('sts').get_caller_identity()['Account']\n",
    "target_arn = f\"arn:aws:lambda:{region}:{account_id}:function:run-agevssal-pipeline\"\n",
    "\n",
    "print(target_arn)\n",
    "\n",
    "eb_client.put_targets(\n",
    "    Rule=rule_name,\n",
    "    Targets=[{\n",
    "        \"Id\": \"target-agevssal-transform-job-sdk\",\n",
    "        \"Arn\": target_arn\n",
    "    }]\n",
    "    )\n"
   ]
  },
  {
   "cell_type": "markdown",
   "id": "c11f725f-c6d1-490e-b678-642a7ddfbe63",
   "metadata": {},
   "source": [
    "## <font size=\"3\" color='red'>Create a sample pipeline on existing train data</font>"
   ]
  },
  {
   "cell_type": "code",
   "execution_count": null,
   "id": "67813ad6-910d-4599-8c17-ed3ff31baac8",
   "metadata": {},
   "outputs": [],
   "source": []
  },
  {
   "cell_type": "markdown",
   "id": "b1fc7616-fcde-4961-b71e-0121a6d996ed",
   "metadata": {},
   "source": [
    "### <font size=\"2\" color='red'>Execute pipeline and generate inference on existing train data</font>"
   ]
  },
  {
   "cell_type": "markdown",
   "id": "f8e420e0-9f53-479f-a227-e563908b16c0",
   "metadata": {},
   "source": [
    "### <font size=\"2\" color='red'>Upload new train data and generate inference by executing pipeline</font>"
   ]
  },
  {
   "cell_type": "markdown",
   "id": "584a6549-5a5c-47fa-9df6-21b65cd346a0",
   "metadata": {},
   "source": [
    "## <center><font size=\"5\" color='black'> ------------- Section 04 - DefaultModelMonitor ------------- </font>"
   ]
  },
  {
   "cell_type": "markdown",
   "id": "91c401c0-24f3-404c-bd33-9b3b4dd06358",
   "metadata": {},
   "source": [
    "## <font size=\"3\" color='blue'>DefaultModelMonitor : Create code to monitor data quality and accept/reject batch input file based on constraints</font>"
   ]
  },
  {
   "cell_type": "markdown",
   "id": "e13ab589-c491-49f0-b2db-b33b3cd3a2eb",
   "metadata": {},
   "source": [
    "### <font size=\"2\" color='blue'>Code for monitor data quality config and job using DefaultModelMonitor</font>"
   ]
  },
  {
   "cell_type": "markdown",
   "id": "7a1d52b7-3f46-4343-9fa3-d9a228be4b90",
   "metadata": {},
   "source": [
    "### <font size=\"2\" color='blue'>Get a batch input file with outlier that the monitor data quality step should REJECT</font>"
   ]
  },
  {
   "cell_type": "markdown",
   "id": "730f0fca-ef8e-43d6-a574-7039006d1bcf",
   "metadata": {},
   "source": [
    "### <font size=\"2\" color='blue'>Get a batch input file with outlier that the monitor data quality step should ACCEPT</font>"
   ]
  },
  {
   "cell_type": "markdown",
   "id": "b81dbded-e4c0-4027-8882-6726244c95a8",
   "metadata": {},
   "source": [
    "## <center><font size=\"5\" color='black'> ------------- Section 05 - ModelMonitor ------------- </font>"
   ]
  },
  {
   "cell_type": "markdown",
   "id": "cd0d29d3-b066-4000-93aa-9e4efb7e69b8",
   "metadata": {},
   "source": [
    "## <font size=\"3\" color='green'>ModelMonitor : Create code to monitor data quality and accept/reject batch input file based on constraints</font>"
   ]
  },
  {
   "cell_type": "markdown",
   "id": "25316d64-bdc4-4a01-84ef-3eeb8d80739f",
   "metadata": {},
   "source": [
    "### <font size=\"2\" color='green'>Code for monitor data quality config and job using ModelMonitor</font>"
   ]
  },
  {
   "cell_type": "markdown",
   "id": "2e8d3052-06b4-4c22-b9cd-33f1b0138a2f",
   "metadata": {},
   "source": [
    "### <font size=\"2\" color='green'>Get a batch input file with outlier that the monitor data quality step should REJECT</font>"
   ]
  },
  {
   "cell_type": "markdown",
   "id": "f2dba589-f561-436a-9a4f-6656469b80fc",
   "metadata": {},
   "source": [
    "### <font size=\"2\" color='green'>Get a batch input file with outlier that the monitor data quality step should ACCEPT</font>"
   ]
  },
  {
   "cell_type": "markdown",
   "id": "3323135e-effd-4225-a327-a9e737d11e4c",
   "metadata": {},
   "source": [
    "# <font size=\"4\" color='black'>End Of Notebook</font>"
   ]
  }
 ],
 "metadata": {
  "availableInstances": [
   {
    "_defaultOrder": 0,
    "_isFastLaunch": true,
    "category": "General purpose",
    "gpuNum": 0,
    "hideHardwareSpecs": false,
    "memoryGiB": 4,
    "name": "ml.t3.medium",
    "vcpuNum": 2
   },
   {
    "_defaultOrder": 1,
    "_isFastLaunch": false,
    "category": "General purpose",
    "gpuNum": 0,
    "hideHardwareSpecs": false,
    "memoryGiB": 8,
    "name": "ml.t3.large",
    "vcpuNum": 2
   },
   {
    "_defaultOrder": 2,
    "_isFastLaunch": false,
    "category": "General purpose",
    "gpuNum": 0,
    "hideHardwareSpecs": false,
    "memoryGiB": 16,
    "name": "ml.t3.xlarge",
    "vcpuNum": 4
   },
   {
    "_defaultOrder": 3,
    "_isFastLaunch": false,
    "category": "General purpose",
    "gpuNum": 0,
    "hideHardwareSpecs": false,
    "memoryGiB": 32,
    "name": "ml.t3.2xlarge",
    "vcpuNum": 8
   },
   {
    "_defaultOrder": 4,
    "_isFastLaunch": true,
    "category": "General purpose",
    "gpuNum": 0,
    "hideHardwareSpecs": false,
    "memoryGiB": 8,
    "name": "ml.m5.large",
    "vcpuNum": 2
   },
   {
    "_defaultOrder": 5,
    "_isFastLaunch": false,
    "category": "General purpose",
    "gpuNum": 0,
    "hideHardwareSpecs": false,
    "memoryGiB": 16,
    "name": "ml.m5.xlarge",
    "vcpuNum": 4
   },
   {
    "_defaultOrder": 6,
    "_isFastLaunch": false,
    "category": "General purpose",
    "gpuNum": 0,
    "hideHardwareSpecs": false,
    "memoryGiB": 32,
    "name": "ml.m5.2xlarge",
    "vcpuNum": 8
   },
   {
    "_defaultOrder": 7,
    "_isFastLaunch": false,
    "category": "General purpose",
    "gpuNum": 0,
    "hideHardwareSpecs": false,
    "memoryGiB": 64,
    "name": "ml.m5.4xlarge",
    "vcpuNum": 16
   },
   {
    "_defaultOrder": 8,
    "_isFastLaunch": false,
    "category": "General purpose",
    "gpuNum": 0,
    "hideHardwareSpecs": false,
    "memoryGiB": 128,
    "name": "ml.m5.8xlarge",
    "vcpuNum": 32
   },
   {
    "_defaultOrder": 9,
    "_isFastLaunch": false,
    "category": "General purpose",
    "gpuNum": 0,
    "hideHardwareSpecs": false,
    "memoryGiB": 192,
    "name": "ml.m5.12xlarge",
    "vcpuNum": 48
   },
   {
    "_defaultOrder": 10,
    "_isFastLaunch": false,
    "category": "General purpose",
    "gpuNum": 0,
    "hideHardwareSpecs": false,
    "memoryGiB": 256,
    "name": "ml.m5.16xlarge",
    "vcpuNum": 64
   },
   {
    "_defaultOrder": 11,
    "_isFastLaunch": false,
    "category": "General purpose",
    "gpuNum": 0,
    "hideHardwareSpecs": false,
    "memoryGiB": 384,
    "name": "ml.m5.24xlarge",
    "vcpuNum": 96
   },
   {
    "_defaultOrder": 12,
    "_isFastLaunch": false,
    "category": "General purpose",
    "gpuNum": 0,
    "hideHardwareSpecs": false,
    "memoryGiB": 8,
    "name": "ml.m5d.large",
    "vcpuNum": 2
   },
   {
    "_defaultOrder": 13,
    "_isFastLaunch": false,
    "category": "General purpose",
    "gpuNum": 0,
    "hideHardwareSpecs": false,
    "memoryGiB": 16,
    "name": "ml.m5d.xlarge",
    "vcpuNum": 4
   },
   {
    "_defaultOrder": 14,
    "_isFastLaunch": false,
    "category": "General purpose",
    "gpuNum": 0,
    "hideHardwareSpecs": false,
    "memoryGiB": 32,
    "name": "ml.m5d.2xlarge",
    "vcpuNum": 8
   },
   {
    "_defaultOrder": 15,
    "_isFastLaunch": false,
    "category": "General purpose",
    "gpuNum": 0,
    "hideHardwareSpecs": false,
    "memoryGiB": 64,
    "name": "ml.m5d.4xlarge",
    "vcpuNum": 16
   },
   {
    "_defaultOrder": 16,
    "_isFastLaunch": false,
    "category": "General purpose",
    "gpuNum": 0,
    "hideHardwareSpecs": false,
    "memoryGiB": 128,
    "name": "ml.m5d.8xlarge",
    "vcpuNum": 32
   },
   {
    "_defaultOrder": 17,
    "_isFastLaunch": false,
    "category": "General purpose",
    "gpuNum": 0,
    "hideHardwareSpecs": false,
    "memoryGiB": 192,
    "name": "ml.m5d.12xlarge",
    "vcpuNum": 48
   },
   {
    "_defaultOrder": 18,
    "_isFastLaunch": false,
    "category": "General purpose",
    "gpuNum": 0,
    "hideHardwareSpecs": false,
    "memoryGiB": 256,
    "name": "ml.m5d.16xlarge",
    "vcpuNum": 64
   },
   {
    "_defaultOrder": 19,
    "_isFastLaunch": false,
    "category": "General purpose",
    "gpuNum": 0,
    "hideHardwareSpecs": false,
    "memoryGiB": 384,
    "name": "ml.m5d.24xlarge",
    "vcpuNum": 96
   },
   {
    "_defaultOrder": 20,
    "_isFastLaunch": false,
    "category": "General purpose",
    "gpuNum": 0,
    "hideHardwareSpecs": true,
    "memoryGiB": 0,
    "name": "ml.geospatial.interactive",
    "supportedImageNames": [
     "sagemaker-geospatial-v1-0"
    ],
    "vcpuNum": 0
   },
   {
    "_defaultOrder": 21,
    "_isFastLaunch": true,
    "category": "Compute optimized",
    "gpuNum": 0,
    "hideHardwareSpecs": false,
    "memoryGiB": 4,
    "name": "ml.c5.large",
    "vcpuNum": 2
   },
   {
    "_defaultOrder": 22,
    "_isFastLaunch": false,
    "category": "Compute optimized",
    "gpuNum": 0,
    "hideHardwareSpecs": false,
    "memoryGiB": 8,
    "name": "ml.c5.xlarge",
    "vcpuNum": 4
   },
   {
    "_defaultOrder": 23,
    "_isFastLaunch": false,
    "category": "Compute optimized",
    "gpuNum": 0,
    "hideHardwareSpecs": false,
    "memoryGiB": 16,
    "name": "ml.c5.2xlarge",
    "vcpuNum": 8
   },
   {
    "_defaultOrder": 24,
    "_isFastLaunch": false,
    "category": "Compute optimized",
    "gpuNum": 0,
    "hideHardwareSpecs": false,
    "memoryGiB": 32,
    "name": "ml.c5.4xlarge",
    "vcpuNum": 16
   },
   {
    "_defaultOrder": 25,
    "_isFastLaunch": false,
    "category": "Compute optimized",
    "gpuNum": 0,
    "hideHardwareSpecs": false,
    "memoryGiB": 72,
    "name": "ml.c5.9xlarge",
    "vcpuNum": 36
   },
   {
    "_defaultOrder": 26,
    "_isFastLaunch": false,
    "category": "Compute optimized",
    "gpuNum": 0,
    "hideHardwareSpecs": false,
    "memoryGiB": 96,
    "name": "ml.c5.12xlarge",
    "vcpuNum": 48
   },
   {
    "_defaultOrder": 27,
    "_isFastLaunch": false,
    "category": "Compute optimized",
    "gpuNum": 0,
    "hideHardwareSpecs": false,
    "memoryGiB": 144,
    "name": "ml.c5.18xlarge",
    "vcpuNum": 72
   },
   {
    "_defaultOrder": 28,
    "_isFastLaunch": false,
    "category": "Compute optimized",
    "gpuNum": 0,
    "hideHardwareSpecs": false,
    "memoryGiB": 192,
    "name": "ml.c5.24xlarge",
    "vcpuNum": 96
   },
   {
    "_defaultOrder": 29,
    "_isFastLaunch": true,
    "category": "Accelerated computing",
    "gpuNum": 1,
    "hideHardwareSpecs": false,
    "memoryGiB": 16,
    "name": "ml.g4dn.xlarge",
    "vcpuNum": 4
   },
   {
    "_defaultOrder": 30,
    "_isFastLaunch": false,
    "category": "Accelerated computing",
    "gpuNum": 1,
    "hideHardwareSpecs": false,
    "memoryGiB": 32,
    "name": "ml.g4dn.2xlarge",
    "vcpuNum": 8
   },
   {
    "_defaultOrder": 31,
    "_isFastLaunch": false,
    "category": "Accelerated computing",
    "gpuNum": 1,
    "hideHardwareSpecs": false,
    "memoryGiB": 64,
    "name": "ml.g4dn.4xlarge",
    "vcpuNum": 16
   },
   {
    "_defaultOrder": 32,
    "_isFastLaunch": false,
    "category": "Accelerated computing",
    "gpuNum": 1,
    "hideHardwareSpecs": false,
    "memoryGiB": 128,
    "name": "ml.g4dn.8xlarge",
    "vcpuNum": 32
   },
   {
    "_defaultOrder": 33,
    "_isFastLaunch": false,
    "category": "Accelerated computing",
    "gpuNum": 4,
    "hideHardwareSpecs": false,
    "memoryGiB": 192,
    "name": "ml.g4dn.12xlarge",
    "vcpuNum": 48
   },
   {
    "_defaultOrder": 34,
    "_isFastLaunch": false,
    "category": "Accelerated computing",
    "gpuNum": 1,
    "hideHardwareSpecs": false,
    "memoryGiB": 256,
    "name": "ml.g4dn.16xlarge",
    "vcpuNum": 64
   },
   {
    "_defaultOrder": 35,
    "_isFastLaunch": false,
    "category": "Accelerated computing",
    "gpuNum": 1,
    "hideHardwareSpecs": false,
    "memoryGiB": 61,
    "name": "ml.p3.2xlarge",
    "vcpuNum": 8
   },
   {
    "_defaultOrder": 36,
    "_isFastLaunch": false,
    "category": "Accelerated computing",
    "gpuNum": 4,
    "hideHardwareSpecs": false,
    "memoryGiB": 244,
    "name": "ml.p3.8xlarge",
    "vcpuNum": 32
   },
   {
    "_defaultOrder": 37,
    "_isFastLaunch": false,
    "category": "Accelerated computing",
    "gpuNum": 8,
    "hideHardwareSpecs": false,
    "memoryGiB": 488,
    "name": "ml.p3.16xlarge",
    "vcpuNum": 64
   },
   {
    "_defaultOrder": 38,
    "_isFastLaunch": false,
    "category": "Accelerated computing",
    "gpuNum": 8,
    "hideHardwareSpecs": false,
    "memoryGiB": 768,
    "name": "ml.p3dn.24xlarge",
    "vcpuNum": 96
   },
   {
    "_defaultOrder": 39,
    "_isFastLaunch": false,
    "category": "Memory Optimized",
    "gpuNum": 0,
    "hideHardwareSpecs": false,
    "memoryGiB": 16,
    "name": "ml.r5.large",
    "vcpuNum": 2
   },
   {
    "_defaultOrder": 40,
    "_isFastLaunch": false,
    "category": "Memory Optimized",
    "gpuNum": 0,
    "hideHardwareSpecs": false,
    "memoryGiB": 32,
    "name": "ml.r5.xlarge",
    "vcpuNum": 4
   },
   {
    "_defaultOrder": 41,
    "_isFastLaunch": false,
    "category": "Memory Optimized",
    "gpuNum": 0,
    "hideHardwareSpecs": false,
    "memoryGiB": 64,
    "name": "ml.r5.2xlarge",
    "vcpuNum": 8
   },
   {
    "_defaultOrder": 42,
    "_isFastLaunch": false,
    "category": "Memory Optimized",
    "gpuNum": 0,
    "hideHardwareSpecs": false,
    "memoryGiB": 128,
    "name": "ml.r5.4xlarge",
    "vcpuNum": 16
   },
   {
    "_defaultOrder": 43,
    "_isFastLaunch": false,
    "category": "Memory Optimized",
    "gpuNum": 0,
    "hideHardwareSpecs": false,
    "memoryGiB": 256,
    "name": "ml.r5.8xlarge",
    "vcpuNum": 32
   },
   {
    "_defaultOrder": 44,
    "_isFastLaunch": false,
    "category": "Memory Optimized",
    "gpuNum": 0,
    "hideHardwareSpecs": false,
    "memoryGiB": 384,
    "name": "ml.r5.12xlarge",
    "vcpuNum": 48
   },
   {
    "_defaultOrder": 45,
    "_isFastLaunch": false,
    "category": "Memory Optimized",
    "gpuNum": 0,
    "hideHardwareSpecs": false,
    "memoryGiB": 512,
    "name": "ml.r5.16xlarge",
    "vcpuNum": 64
   },
   {
    "_defaultOrder": 46,
    "_isFastLaunch": false,
    "category": "Memory Optimized",
    "gpuNum": 0,
    "hideHardwareSpecs": false,
    "memoryGiB": 768,
    "name": "ml.r5.24xlarge",
    "vcpuNum": 96
   },
   {
    "_defaultOrder": 47,
    "_isFastLaunch": false,
    "category": "Accelerated computing",
    "gpuNum": 1,
    "hideHardwareSpecs": false,
    "memoryGiB": 16,
    "name": "ml.g5.xlarge",
    "vcpuNum": 4
   },
   {
    "_defaultOrder": 48,
    "_isFastLaunch": false,
    "category": "Accelerated computing",
    "gpuNum": 1,
    "hideHardwareSpecs": false,
    "memoryGiB": 32,
    "name": "ml.g5.2xlarge",
    "vcpuNum": 8
   },
   {
    "_defaultOrder": 49,
    "_isFastLaunch": false,
    "category": "Accelerated computing",
    "gpuNum": 1,
    "hideHardwareSpecs": false,
    "memoryGiB": 64,
    "name": "ml.g5.4xlarge",
    "vcpuNum": 16
   },
   {
    "_defaultOrder": 50,
    "_isFastLaunch": false,
    "category": "Accelerated computing",
    "gpuNum": 1,
    "hideHardwareSpecs": false,
    "memoryGiB": 128,
    "name": "ml.g5.8xlarge",
    "vcpuNum": 32
   },
   {
    "_defaultOrder": 51,
    "_isFastLaunch": false,
    "category": "Accelerated computing",
    "gpuNum": 1,
    "hideHardwareSpecs": false,
    "memoryGiB": 256,
    "name": "ml.g5.16xlarge",
    "vcpuNum": 64
   },
   {
    "_defaultOrder": 52,
    "_isFastLaunch": false,
    "category": "Accelerated computing",
    "gpuNum": 4,
    "hideHardwareSpecs": false,
    "memoryGiB": 192,
    "name": "ml.g5.12xlarge",
    "vcpuNum": 48
   },
   {
    "_defaultOrder": 53,
    "_isFastLaunch": false,
    "category": "Accelerated computing",
    "gpuNum": 4,
    "hideHardwareSpecs": false,
    "memoryGiB": 384,
    "name": "ml.g5.24xlarge",
    "vcpuNum": 96
   },
   {
    "_defaultOrder": 54,
    "_isFastLaunch": false,
    "category": "Accelerated computing",
    "gpuNum": 8,
    "hideHardwareSpecs": false,
    "memoryGiB": 768,
    "name": "ml.g5.48xlarge",
    "vcpuNum": 192
   },
   {
    "_defaultOrder": 55,
    "_isFastLaunch": false,
    "category": "Accelerated computing",
    "gpuNum": 8,
    "hideHardwareSpecs": false,
    "memoryGiB": 1152,
    "name": "ml.p4d.24xlarge",
    "vcpuNum": 96
   },
   {
    "_defaultOrder": 56,
    "_isFastLaunch": false,
    "category": "Accelerated computing",
    "gpuNum": 8,
    "hideHardwareSpecs": false,
    "memoryGiB": 1152,
    "name": "ml.p4de.24xlarge",
    "vcpuNum": 96
   },
   {
    "_defaultOrder": 57,
    "_isFastLaunch": false,
    "category": "Accelerated computing",
    "gpuNum": 0,
    "hideHardwareSpecs": false,
    "memoryGiB": 32,
    "name": "ml.trn1.2xlarge",
    "vcpuNum": 8
   },
   {
    "_defaultOrder": 58,
    "_isFastLaunch": false,
    "category": "Accelerated computing",
    "gpuNum": 0,
    "hideHardwareSpecs": false,
    "memoryGiB": 512,
    "name": "ml.trn1.32xlarge",
    "vcpuNum": 128
   },
   {
    "_defaultOrder": 59,
    "_isFastLaunch": false,
    "category": "Accelerated computing",
    "gpuNum": 0,
    "hideHardwareSpecs": false,
    "memoryGiB": 512,
    "name": "ml.trn1n.32xlarge",
    "vcpuNum": 128
   }
  ],
  "instance_type": "ml.t3.medium",
  "kernelspec": {
   "display_name": "Python 3 (ipykernel)",
   "language": "python",
   "name": "python3"
  },
  "language_info": {
   "codemirror_mode": {
    "name": "ipython",
    "version": 3
   },
   "file_extension": ".py",
   "mimetype": "text/x-python",
   "name": "python",
   "nbconvert_exporter": "python",
   "pygments_lexer": "ipython3",
   "version": "3.10.14"
  },
  "toc-autonumbering": false
 },
 "nbformat": 4,
 "nbformat_minor": 5
}
