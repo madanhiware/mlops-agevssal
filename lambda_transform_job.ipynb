{
 "cells": [
  {
   "cell_type": "code",
   "execution_count": null,
   "id": "e18e2ff4-1d20-448f-b867-20083253775f",
   "metadata": {},
   "outputs": [],
   "source": [
    "import json\n",
    "import boto3\n",
    "from datetime import datetime \n",
    "\n",
    "def lambda_handler(event, context):\n",
    "  sagemaker_client = boto3.client('sagemaker')\n",
    "  tn = datetime.now().strftime(\"%Y%m%d%H%M%S\")\n",
    "  transform_job=\"AgeVsSalaryTransform-event\" + tn\n",
    "  \n",
    "  # Replace with your model name, model artifact location, and S3 input/output paths\n",
    "  model_name = \"pipelines-q7ccj9vacdej-AgeVsSalaryModel-Cre-zSoG4h7s4A\"\n",
    "  model_artifact_location = \"s3://madan-s3/pipelines/use_case_ageVsSalary/output/pipelines-q7ccj9vacdej-AgeVsSalary-train-O8HJJ2LnZx/output/model.tar.gz\"\n",
    "  inputDataConfig = {\n",
    "      \"DataSource\": {\n",
    "          \"S3DataSource\": {\n",
    "              \"S3DataType\": \"S3Prefix\",  # Or \"ManagedChannel\" if applicable\n",
    "              \"S3Uri\": \"s3://madan-s3/pipelines/use_case_ageVsSalary/input_data_for_training/test/test_df.csv\"\n",
    "          }\n",
    "      },\n",
    "      \"ContentType\": \"text/csv\",\n",
    "      \"SplitType\": \"Line\"\n",
    "  }\n",
    "  \n",
    "  outputDataConfig = {\"S3OutputPath\": \"s3://madan-s3/pipelines/use_case_ageVsSalary/output\"}\n",
    "  \n",
    "  response = sagemaker_client.create_transform_job(\n",
    "      ModelName=model_name,\n",
    "      TransformJobName=transform_job,\n",
    "      BatchStrategy=\"SingleRecord\",  # Adjust if needed for multi-instance\n",
    "      TransformInput=inputDataConfig,\n",
    "      TransformOutput=outputDataConfig,\n",
    "      TransformResources={\n",
    "          \"InstanceType\": \"ml.m5.xlarge\",  # Adjust instance type\n",
    "          \"InstanceCount\": 1,\n",
    "      },\n",
    "  )\n",
    "  \n",
    "  print(f\"Transform job created: {response['TransformJobArn']}\")\n",
    "  return {\n",
    "      'statusCode': 200,\n",
    "      'body': 'Transform job started!'\n",
    "  }\n",
    "\n",
    "\n"
   ]
  }
 ],
 "metadata": {
  "kernelspec": {
   "display_name": "Python 3 (ipykernel)",
   "language": "python",
   "name": "python3"
  },
  "language_info": {
   "codemirror_mode": {
    "name": "ipython",
    "version": 3
   },
   "file_extension": ".py",
   "mimetype": "text/x-python",
   "name": "python",
   "nbconvert_exporter": "python",
   "pygments_lexer": "ipython3",
   "version": "3.10.14"
  }
 },
 "nbformat": 4,
 "nbformat_minor": 5
}
